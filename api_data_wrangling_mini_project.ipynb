{
 "cells": [
  {
   "cell_type": "markdown",
   "metadata": {},
   "source": [
    "This exercise will require you to pull some data from the Qunadl API. Qaundl is currently the most widely used aggregator of financial market data."
   ]
  },
  {
   "cell_type": "markdown",
   "metadata": {},
   "source": [
    "As a first step, you will need to register a free account on the http://www.quandl.com website."
   ]
  },
  {
   "cell_type": "markdown",
   "metadata": {},
   "source": [
    "After you register, you will be provided with a unique API key, that you should store:"
   ]
  },
  {
   "cell_type": "code",
   "execution_count": 1,
   "metadata": {},
   "outputs": [],
   "source": [
    "# Store the API key as a string - according to PEP8, constants are always named in all upper case\n",
    "API_KEY = ''"
   ]
  },
  {
   "cell_type": "markdown",
   "metadata": {},
   "source": [
    "Qaundl has a large number of data sources, but, unfortunately, most of them require a Premium subscription. Still, there are also a good number of free datasets."
   ]
  },
  {
   "cell_type": "markdown",
   "metadata": {},
   "source": [
    "For this mini project, we will focus on equities data from the Frankfurt Stock Exhange (FSE), which is available for free. We'll try and analyze the stock prices of a company called Carl Zeiss Meditec, which manufactures tools for eye examinations, as well as medical lasers for laser eye surgery: https://www.zeiss.com/meditec/int/home.html. The company is listed under the stock ticker AFX_X."
   ]
  },
  {
   "cell_type": "markdown",
   "metadata": {},
   "source": [
    "You can find the detailed Quandl API instructions here: https://docs.quandl.com/docs/time-series"
   ]
  },
  {
   "cell_type": "markdown",
   "metadata": {},
   "source": [
    "While there is a dedicated Python package for connecting to the Quandl API, we would prefer that you use the *requests* package, which can be easily downloaded using *pip* or *conda*. You can find the documentation for the package here: http://docs.python-requests.org/en/master/ "
   ]
  },
  {
   "cell_type": "markdown",
   "metadata": {},
   "source": [
    "Finally, apart from the *requests* package, you are encouraged to not use any third party Python packages, such as *pandas*, and instead focus on what's available in the Python Standard Library (the *collections* module might come in handy: https://pymotw.com/3/collections/ ).\n",
    "Also, since you won't have access to DataFrames, you are encouraged to us Python's native data structures - preferably dictionaries, though some questions can also be answered using lists.\n",
    "You can read more on these data structures here: https://docs.python.org/3/tutorial/datastructures.html"
   ]
  },
  {
   "cell_type": "markdown",
   "metadata": {},
   "source": [
    "Keep in mind that the JSON responses you will be getting from the API map almost one-to-one to Python's dictionaries. Unfortunately, they can be very nested, so make sure you read up on indexing dictionaries in the documentation provided above."
   ]
  },
  {
   "cell_type": "code",
   "execution_count": 2,
   "metadata": {},
   "outputs": [],
   "source": [
    "# First, import the relevant modules\n",
    "import json\n",
    "import requests"
   ]
  },
  {
   "cell_type": "code",
   "execution_count": 3,
   "metadata": {},
   "outputs": [],
   "source": [
    "# Now, call the Quandl API and pull out a small sample of the data (only one day) to get a glimpse\n",
    "# into the JSON structure that will be returned\n",
    "\n",
    "url = 'https://www.quandl.com/api/v3/datasets/FSE/AFX_X/data.json?start_date=2017-01-01&end_date=2017-01-02&api_key={}'.format(API_KEY)\n",
    "r = requests.get(url)\n",
    "afx_x_data = r.json()"
   ]
  },
  {
   "cell_type": "code",
   "execution_count": 4,
   "metadata": {
    "scrolled": true
   },
   "outputs": [
    {
     "name": "stdout",
     "output_type": "stream",
     "text": [
      "{\n",
      "    \"dataset_data\": {\n",
      "        \"limit\": null,\n",
      "        \"transform\": null,\n",
      "        \"column_index\": null,\n",
      "        \"column_names\": [\n",
      "            \"Date\",\n",
      "            \"Open\",\n",
      "            \"High\",\n",
      "            \"Low\",\n",
      "            \"Close\",\n",
      "            \"Change\",\n",
      "            \"Traded Volume\",\n",
      "            \"Turnover\",\n",
      "            \"Last Price of the Day\",\n",
      "            \"Daily Traded Units\",\n",
      "            \"Daily Turnover\"\n",
      "        ],\n",
      "        \"start_date\": \"2017-01-01\",\n",
      "        \"end_date\": \"2017-01-02\",\n",
      "        \"frequency\": \"daily\",\n",
      "        \"data\": [\n",
      "            [\n",
      "                \"2017-01-02\",\n",
      "                34.99,\n",
      "                35.94,\n",
      "                34.99,\n",
      "                35.8,\n",
      "                null,\n",
      "                44700.0,\n",
      "                1590561.0,\n",
      "                null,\n",
      "                null,\n",
      "                null\n",
      "            ]\n",
      "        ],\n",
      "        \"collapse\": null,\n",
      "        \"order\": null\n",
      "    }\n",
      "}\n"
     ]
    }
   ],
   "source": [
    "# Inspect the JSON structure of the object you created, and take note of how nested it is,\n",
    "# as well as the overall structure\n",
    "    \n",
    "#[print(key + ':', value) for key, value in afx_x_data.items()]\n",
    "\n",
    "print(json.dumps(afx_x_data, indent=4))"
   ]
  },
  {
   "cell_type": "markdown",
   "metadata": {},
   "source": [
    "These are your tasks for this mini project:\n",
    "\n",
    "1. Collect data from the Franfurt Stock Exchange, for the ticker AFX_X, for the whole year 2017 (keep in mind that the date format is YYYY-MM-DD).\n",
    "2. Convert the returned JSON object into a Python dictionary.\n",
    "3. Calculate what the highest and lowest opening prices were for the stock in this period.\n",
    "4. What was the largest change in any one day (based on High and Low price)?\n",
    "5. What was the largest change between any two days (based on Closing Price)?\n",
    "6. What was the average daily trading volume during this year?\n",
    "7. (Optional) What was the median trading volume during this year. (Note: you may need to implement your own function for calculating the median.)"
   ]
  },
  {
   "cell_type": "code",
   "execution_count": 5,
   "metadata": {},
   "outputs": [],
   "source": [
    "# data from the Franfurt Stock Exchange, for the ticker AFX_X, for the whole year 2017\n",
    "afx2017_url = 'https://www.quandl.com/api/v3/datasets/FSE/AFX_X/data.json?start_date=2017-01-01&end_date=2017-12-31&collapse=daily&api_key={}'.format(API_KEY)\n",
    "\n",
    "r = requests.get(afx2017_url)\n",
    "afx_dict = r.json() # returns python dictionary called afx_dict\n",
    "\n",
    "#print(json.dumps(afx_dict, indent=4))"
   ]
  },
  {
   "cell_type": "code",
   "execution_count": 6,
   "metadata": {},
   "outputs": [
    {
     "name": "stdout",
     "output_type": "stream",
     "text": [
      "$53.11 was the highest opening price in 2017.\n",
      "$34.0 was the lowest opening price in 2017.\n"
     ]
    }
   ],
   "source": [
    "## what the highest and lowest opening prices were for the stock in this period?\n",
    "opens = [x[1] for x in afx_dict[\"dataset_data\"][\"data\"] if x[1]!=None]\n",
    "high, low = max(opens), min(opens)\n",
    "print(\"${} was the highest opening price in 2017.\".format(high)) # highest opening price in 2017\n",
    "print(\"${} was the lowest opening price in 2017.\".format(low)) # lowest opening price in 2017"
   ]
  },
  {
   "cell_type": "code",
   "execution_count": 7,
   "metadata": {},
   "outputs": [
    {
     "name": "stdout",
     "output_type": "stream",
     "text": [
      "$2.8100000000000023 was the largest change in any one day based on the High and Low prices.\n"
     ]
    }
   ],
   "source": [
    "## What was the largest change in any one day (based on High and Low price)?\n",
    "changes = [x[2]-x[3] for x in afx_dict[\"dataset_data\"][\"data\"] if x[2]!=None and x[3]!=None]\n",
    "\n",
    "print(\"${} was the largest change in any one day based on the High and Low prices.\".format(max(changes)))"
   ]
  },
  {
   "cell_type": "code",
   "execution_count": 8,
   "metadata": {},
   "outputs": [
    {
     "name": "stdout",
     "output_type": "stream",
     "text": [
      "$2.559999999999995 is the largest change, based on Closing Price, that occurred between any two days in 2017.\n"
     ]
    }
   ],
   "source": [
    "## What was the largest change between any two days (based on Closing Price)?\n",
    "def closing_diff(list_of_lists): #takes a list of lists\n",
    "    closings = []\n",
    "    diffs = []\n",
    "    for list in list_of_lists:\n",
    "        closings.append(list[4])\n",
    "    for i in range(1, len(closings)):\n",
    "        if closings[i] == None:\n",
    "            continue\n",
    "        elif closings[i] != None:\n",
    "            diffs.append(abs(closings[i] - closings[i-1]))\n",
    "    print(\"${} is the largest change, based on Closing Price, that occurred between any two days in 2017.\".format(max(diffs)))\n",
    "    \n",
    "LOL = afx_dict[\"dataset_data\"][\"data\"]\n",
    "closing_diff(LOL)"
   ]
  },
  {
   "cell_type": "code",
   "execution_count": 9,
   "metadata": {},
   "outputs": [
    {
     "name": "stdout",
     "output_type": "stream",
     "text": [
      "The average daily trading volume during 2017 was 89124.33725490196.\n"
     ]
    }
   ],
   "source": [
    "## What was the average daily trading volume during this year?\n",
    "vols = [x[6] for x in afx_dict[\"dataset_data\"][\"data\"] if x[6]!=None]\n",
    "avg = (sum(vols)/len(vols))\n",
    "print(\"The average daily trading volume during 2017 was {}.\".format(avg))"
   ]
  },
  {
   "cell_type": "code",
   "execution_count": 10,
   "metadata": {},
   "outputs": [
    {
     "name": "stdout",
     "output_type": "stream",
     "text": [
      "The median trading volume during 2017 was 134965.0.\n"
     ]
    }
   ],
   "source": [
    "## What was the median trading volume during this year?\n",
    "def median(list):\n",
    "    if len(list) == 0 or len(list) == 1:\n",
    "        return \"try again\"\n",
    "    elif len(list) % 2 == 0:\n",
    "        h = int(len(list) / 2)\n",
    "        return (list[h]+list[h+1]) / 2\n",
    "    else: #if it's odd\n",
    "        x = int((len(list)) / 2)\n",
    "        return list[x]\n",
    "    \n",
    "print(\"The median trading volume during 2017 was {}.\".format(median(vols)))"
   ]
  }
 ],
 "metadata": {
  "kernelspec": {
   "display_name": "Python 3",
   "language": "python",
   "name": "python3"
  },
  "language_info": {
   "codemirror_mode": {
    "name": "ipython",
    "version": 3
   },
   "file_extension": ".py",
   "mimetype": "text/x-python",
   "name": "python",
   "nbconvert_exporter": "python",
   "pygments_lexer": "ipython3",
   "version": "3.8.3"
  }
 },
 "nbformat": 4,
 "nbformat_minor": 2
}
